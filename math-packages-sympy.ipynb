{
 "cells": [
  {
   "cell_type": "markdown",
   "id": "2b86efc4",
   "metadata": {},
   "source": [
    "# Лабораторная работа №3: Использование библиотеки символьных вычислений SymPy для решения задач\n",
    "\n",
    "Выполнил студент группы 9381 Колованов Родион Алексеевич, Вариант 7."
   ]
  },
  {
   "cell_type": "markdown",
   "id": "4e361f1c",
   "metadata": {},
   "source": [
    "## Цель работы\n",
    "\n",
    "Практическое применение библиотеки символьных вычислений Python (SymPy) для решения задач дискретной математики и математической логики."
   ]
  },
  {
   "cell_type": "markdown",
   "id": "c1ef4b68",
   "metadata": {},
   "source": [
    "## Задачи работы\n",
    "\n",
    "1. Используя методы библиотеки SymPy решить диофантово уравнение;\n",
    "2. Используя методы библиотеки SymPy по открытой части ключа RSA найти соответствующую закрытую часть и расшифровать кодированное слово;\n",
    "3. Используя методы библиотеки SymPy записать в ДНФ и КНФ булеву функцию, заданную аналитическим выражением."
   ]
  },
  {
   "cell_type": "markdown",
   "id": "132db58f",
   "metadata": {},
   "source": [
    "## Выполнение работы\n",
    "\n",
    "Для начала подключим нужные библиотеки:"
   ]
  },
  {
   "cell_type": "code",
   "execution_count": 18,
   "id": "15eb95de",
   "metadata": {},
   "outputs": [],
   "source": [
    "import sympy as sp\n",
    "import sympy.crypto.crypto as spc\n",
    "import sympy.logic.boolalg as spl"
   ]
  },
  {
   "cell_type": "markdown",
   "id": "6b73a78b",
   "metadata": {},
   "source": [
    "### Решение диофантова уравнения\n",
    "\n",
    "Задано следующее диофантово уравнение: $1742x+1911y=65$. Решим его при помощи метода *diophantine* библиотеки SymPy:"
   ]
  },
  {
   "cell_type": "code",
   "execution_count": 19,
   "id": "3984d68c",
   "metadata": {},
   "outputs": [
    {
     "data": {
      "text/plain": [
       "{(147*t_0 - 170, 155 - 134*t_0)}"
      ]
     },
     "execution_count": 19,
     "metadata": {},
     "output_type": "execute_result"
    }
   ],
   "source": [
    "x, y = sp.symbols(\"x y\")\n",
    "sp.diophantine(1742 * x + 1911 * y - 65)"
   ]
  },
  {
   "cell_type": "markdown",
   "id": "7dca1a49",
   "metadata": {},
   "source": [
    "Получили следующий ответ:\n",
    "\n",
    "$x=-170+147t_0$\n",
    "\n",
    "$y=155-134t_0$\n",
    "\n",
    "$t_0 \\in \\mathbb{Z}$"
   ]
  },
  {
   "cell_type": "markdown",
   "id": "e5497eeb",
   "metadata": {},
   "source": [
    "### Расшифровка закодированного сообщения\n",
    "\n",
    "Дан открытый ключ $(e = 5, m = 39)$ и закодированное сообщение $(28, 10, 32, 11)$. Найдем закрытый ключ при помощи метода *rsa_private_key* и расшифруем сообщение при помощи метода *decipher_rsa* библиотеки SymPy:"
   ]
  },
  {
   "cell_type": "code",
   "execution_count": 20,
   "id": "956e0a2a",
   "metadata": {},
   "outputs": [
    {
     "name": "stdout",
     "output_type": "stream",
     "text": [
      "СВАТ"
     ]
    }
   ],
   "source": [
    "alphabet = {2: \"А\", 3: \"Б\", 4: \"В\", 5: \"Г\", 6: \"Д\", 7: \"Е\", 8: \"Ж\", 9: \"З\", 10: \"И\", 11: \"Й\", 12: \"К\", 13: \"Л\", 14: \"М\", 15: \"Н\", 16: \"О\", 17: \"П\", 18: \"Р\", 19: \"С\", 20: \"Т\", 21: \"У\", 22: \"Ф\", 23: \"Х\", 24: \"Ц\", 25: \"Ч\", 26: \"Ш\", 27: \"Щ\", 28: \"Ы\", 29: \"Ь\", 30: \"Э\", 31: \"Ю\", 32: \"Я\"}\n",
    "encoded_message = [28, 10, 32, 11]\n",
    "private_key = spc.rsa_private_key(39, 5)\n",
    "\n",
    "for character in encoded_message:\n",
    "    print(alphabet[spc.decipher_rsa(character, private_key)], end='')   "
   ]
  },
  {
   "cell_type": "markdown",
   "id": "e5f455d1",
   "metadata": {},
   "source": [
    "Получили следующий ответ: *СВАТ*"
   ]
  },
  {
   "cell_type": "markdown",
   "id": "a80682b9",
   "metadata": {},
   "source": [
    "### Преобразование булевой функции в ДНФ И КНФ\n",
    "\n",
    "Дана следующая булева функция: $f(x,y,z)=((x\\ xor\\ z)(yx)) \\vee (y\\ xor\\ (z \\vee y))$. Найдем ДНФ и КНФ при помощи методов *to_dnf* и *to_cnf* библиотеки SymPy:"
   ]
  },
  {
   "cell_type": "code",
   "execution_count": 21,
   "id": "d25d6831",
   "metadata": {},
   "outputs": [
    {
     "name": "stdout",
     "output_type": "stream",
     "text": [
      "ДНФ: (z & ~y) | (x & y & ~z)\n",
      "КНФ: (x | z) & (y | z) & (~y | ~z)\n"
     ]
    }
   ],
   "source": [
    "x, y, z = sp.symbols(\"x y z\")\n",
    "\n",
    "print(\"ДНФ: {}\".format(spl.to_dnf(((x ^ z) & (y & x)) | (y ^ (z | y)), simplify=True)))\n",
    "print(\"КНФ: {}\".format(spl.to_cnf(((x ^ z) & (y & x)) | (y ^ (z | y)), simplify=True)))"
   ]
  },
  {
   "cell_type": "markdown",
   "id": "4b5fc5b7",
   "metadata": {},
   "source": [
    "Получили следующий ответ:\n",
    "\n",
    "ДНФ: $f(x,y,z)=(z \\wedge \\bar y) \\vee (x \\wedge y \\wedge \\bar z)$\n",
    "\n",
    "КНФ: $f(x,y,z)=(x \\vee z) \\wedge (y \\vee z) \\wedge (\\bar y \\vee \\bar z)$"
   ]
  },
  {
   "cell_type": "markdown",
   "id": "ef13edfd",
   "metadata": {},
   "source": [
    "## Выводы\n",
    "\n",
    "Были получены навыки использования библиотеки символьных вычислений Python (SymPy) для решения задач дискретной математики и математической логики. В ходе лабораторной работы были решены следующие задачи:\n",
    "\n",
    "* Решение диофантова уравнения;\n",
    "* Расшифровка закодированного сообщения;\n",
    "* Запись булевой функции, заданную аналитическим выражением, в виде ДНФ и КНФ."
   ]
  },
  {
   "cell_type": "code",
   "execution_count": null,
   "id": "69eef8a2",
   "metadata": {},
   "outputs": [],
   "source": []
  }
 ],
 "metadata": {
  "kernelspec": {
   "display_name": "Python 3",
   "language": "python",
   "name": "python3"
  },
  "language_info": {
   "codemirror_mode": {
    "name": "ipython",
    "version": 3
   },
   "file_extension": ".py",
   "mimetype": "text/x-python",
   "name": "python",
   "nbconvert_exporter": "python",
   "pygments_lexer": "ipython3",
   "version": "3.8.8"
  }
 },
 "nbformat": 4,
 "nbformat_minor": 5
}
